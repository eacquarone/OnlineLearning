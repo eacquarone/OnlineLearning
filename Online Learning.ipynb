{
 "cells": [
  {
   "cell_type": "markdown",
   "metadata": {},
   "source": [
    "# Online Learning Project\n",
    "## [Paper] \"A Tutorial on Conformal Prediction\" by Glenn Shafer and Vladimir Vovk\n",
    "\n",
    "In this paper, the authors present a novel method for evualuating machine learning model's accuracy in an online setting. Given a desired level $\\epsilon$, the method constructs a confidence region $\\Gamma^\\epsilon$ for the predicted value that has at least a $1 - \\epsilon$ probability of including the true value.\n",
    "\n",
    "In this notebook we will implement the conformal prediction algorithm for both **classification** and **regression** and test it on some widely used datasets.\n",
    "\n",
    "#### Some imports and global variables :"
   ]
  },
  {
   "cell_type": "code",
   "execution_count": 1,
   "metadata": {},
   "outputs": [
    {
     "name": "stdout",
     "output_type": "stream",
     "text": [
      "Populating the interactive namespace from numpy and matplotlib\n"
     ]
    }
   ],
   "source": [
    "%pylab inline"
   ]
  },
  {
   "cell_type": "code",
   "execution_count": 2,
   "metadata": {},
   "outputs": [],
   "source": [
    "import warnings\n",
    "warnings.filterwarnings(action='ignore')"
   ]
  },
  {
   "cell_type": "code",
   "execution_count": 3,
   "metadata": {},
   "outputs": [],
   "source": [
    "from tqdm import tqdm\n",
    "\n",
    "import pandas as pd\n",
    "from scipy import stats\n",
    "\n",
    "from sklearn.datasets import load_iris, load_diabetes\n",
    "from sklearn.model_selection import train_test_split\n",
    "from sklearn.ensemble import RandomForestClassifier, GradientBoostingRegressor\n",
    "\n",
    "import seaborn as sns\n",
    "\n",
    "sns.set_style(\"whitegrid\")\n",
    "sns.set_context(\"talk\")"
   ]
  },
  {
   "cell_type": "code",
   "execution_count": 4,
   "metadata": {},
   "outputs": [],
   "source": [
    "np.random.seed(0)"
   ]
  },
  {
   "cell_type": "markdown",
   "metadata": {},
   "source": [
    "The only hypothesis we are making hese is that the samples of the training data are exchangeable. In the particular case were the samples are assumed to be i.i.d, this is obviously verified."
   ]
  },
  {
   "cell_type": "markdown",
   "metadata": {},
   "source": [
    "## Conformal Algorithm using old examples alone"
   ]
  },
  {
   "cell_type": "markdown",
   "metadata": {},
   "source": [
    "Let's generate some initial values from a binomial distribution :"
   ]
  },
  {
   "cell_type": "code",
   "execution_count": 5,
   "metadata": {},
   "outputs": [],
   "source": [
    "n_trials = 5\n",
    "n_samples = 10\n",
    "\n",
    "samples = list(np.random.binomial(n=n_trials, p=1/3, size=n_samples))"
   ]
  },
  {
   "cell_type": "code",
   "execution_count": 6,
   "metadata": {},
   "outputs": [
    {
     "data": {
      "image/png": "[encoded data removed]",
      "text/plain": [
       "<Figure size 1296x576 with 1 Axes>"
      ]
     },
     "metadata": {},
     "output_type": "display_data"
    }
   ],
   "source": [
    "plt.figure(figsize=(18, 8))\n",
    "sns.distplot(samples, kde=False, bins=n_samples)\n",
    "plt.show()"
   ]
  },
  {
   "cell_type": "markdown",
   "metadata": {},
   "source": [
    "We define a **non-conformity measure** that is simply the distance of the new value to the average of all previous values. Then we use this measure in a **conformal algorithm** that outputs an estimated conformity probability. We then compare this probability to the desired confidence **level** $\\epsilon$ and keep the value if the probability is higher than $\\epsilon$."
   ]
  },
  {
   "cell_type": "code",
   "execution_count": 7,
   "metadata": {},
   "outputs": [],
   "source": [
    "def nonconformity_measure(previous_values, new_value):\n",
    "    estimation_from_old_examples = np.sum(previous_values) + new_value\n",
    "    estimation_from_old_examples /= (len(previous_values) + 1.)\n",
    "    return np.abs(estimation_from_old_examples - new_value)\n",
    "\n",
    "def conformal_algorithm_from_old_examples(non_conformity_measure, previous_examples, new_example):\n",
    "    n = len(previous_examples) + 1\n",
    "    examples = list(previous_examples) + [new_example]\n",
    "\n",
    "    alphas = []\n",
    "    for i in range(n):\n",
    "        alphas.append(non_conformity_measure(examples[:i] + examples[i+1:], examples[i]))\n",
    "\n",
    "    p = np.mean(np.array(alphas) >= alphas[-1])\n",
    "    return p"
   ]
  },
  {
   "cell_type": "markdown",
   "metadata": {},
   "source": [
    "Given previous values the possible value of the next one is in $\\{0, 1, 2, 3, 4, 5\\}$."
   ]
  },
  {
   "cell_type": "code",
   "execution_count": 8,
   "metadata": {},
   "outputs": [],
   "source": [
    "possible_values = range(n_trials + 1)"
   ]
  },
  {
   "cell_type": "markdown",
   "metadata": {},
   "source": [
    "We choose and $\\epsilon$ value of 0.05 :"
   ]
  },
  {
   "cell_type": "code",
   "execution_count": 9,
   "metadata": {},
   "outputs": [],
   "source": [
    "epsilon = 0.05"
   ]
  },
  {
   "cell_type": "markdown",
   "metadata": {},
   "source": [
    "Let's test the conformal algorithm on 100 new values :"
   ]
  },
  {
   "cell_type": "code",
   "execution_count": 10,
   "metadata": {},
   "outputs": [],
   "source": [
    "def get_confidence_region(nonconformity_measure, samples, possible_values, epsilon):\n",
    "    confidence_region = []\n",
    "    for value in possible_values:\n",
    "        p = conformal_algorithm_from_old_examples(nonconformity_measure, samples, value)\n",
    "        if p > epsilon:\n",
    "            confidence_region.append(value)\n",
    "    return confidence_region"
   ]
  },
  {
   "cell_type": "code",
   "execution_count": 11,
   "metadata": {},
   "outputs": [
    {
     "name": "stderr",
     "output_type": "stream",
     "text": [
      "100%|██████████| 200/200 [00:07<00:00, 28.30it/s]\n"
     ]
    }
   ],
   "source": [
    "hits = []\n",
    "region_sizes = []\n",
    "for _ in tqdm(range(200)):\n",
    "    confidence_region = get_confidence_region(nonconformity_measure, samples, possible_values, epsilon)\n",
    "    new_value = np.random.binomial(n=n_trials, p=1/3)\n",
    "    hits.append(new_value in confidence_region)\n",
    "    region_sizes.append(len(confidence_region))\n",
    "    samples += [new_value]"
   ]
  },
  {
   "cell_type": "code",
   "execution_count": 12,
   "metadata": {},
   "outputs": [
    {
     "name": "stdout",
     "output_type": "stream",
     "text": [
      "Hit frequency : 0.995\n"
     ]
    }
   ],
   "source": [
    "print(f\"Hit frequency : {np.mean(hits)}\")"
   ]
  },
  {
   "cell_type": "code",
   "execution_count": 13,
   "metadata": {},
   "outputs": [
    {
     "name": "stdout",
     "output_type": "stream",
     "text": [
      "Average confidence region size : 4.99\n"
     ]
    }
   ],
   "source": [
    "print(f\"Average confidence region size : {np.mean(region_sizes)}\")"
   ]
  },
  {
   "cell_type": "markdown",
   "metadata": {},
   "source": [
    "Whenever a new value is indeed in the constructed confidence region, we say that it is a 'hit'. We can see here that the hit frequency is higher than 1-$\\epsilon$ = 0.95, and therefore the confidence regions seem **valid**. On the other hand, the average confidence region size is $\\approx$ 5 which shows that the algorithm almost never rejects a value. "
   ]
  },
  {
   "cell_type": "code",
   "execution_count": 14,
   "metadata": {},
   "outputs": [],
   "source": [
    "epsilon = 0.05\n",
    "\n",
    "confidence_region = get_confidence_region(nonconformity_measure, samples, possible_values, epsilon)\n",
    "starting_len = len(confidence_region)\n",
    "        \n",
    "while len(confidence_region) == starting_len:\n",
    "    epsilon += 0.01\n",
    "    confidence_region = get_confidence_region(nonconformity_measure, samples, possible_values, epsilon)"
   ]
  },
  {
   "cell_type": "code",
   "execution_count": 15,
   "metadata": {},
   "outputs": [
    {
     "name": "stdout",
     "output_type": "stream",
     "text": [
      "0.19000000000000003\n"
     ]
    }
   ],
   "source": [
    "print(epsilon)"
   ]
  },
  {
   "cell_type": "markdown",
   "metadata": {},
   "source": [
    "By reducing the value of $\\epsilon$ until rejecting a value from the interval, we see that the required level for a tighter confidence region is almost 20%."
   ]
  },
  {
   "cell_type": "markdown",
   "metadata": {},
   "source": [
    "## Conformal Algorithm using a new object\n",
    "### Classification - Iris Dataset"
   ]
  },
  {
   "cell_type": "markdown",
   "metadata": {},
   "source": [
    "Now let's see how to use conformal prediction in a more classical machine learning problem : the classification of the Iris Dataset"
   ]
  },
  {
   "cell_type": "code",
   "execution_count": 16,
   "metadata": {},
   "outputs": [],
   "source": [
    "X, y = load_iris(return_X_y=True)\n",
    "idx = np.arange(X.shape[0])\n",
    "np.random.shuffle(idx)\n",
    "X = X[idx]\n",
    "y = y[idx]"
   ]
  },
  {
   "cell_type": "code",
   "execution_count": 17,
   "metadata": {},
   "outputs": [],
   "source": [
    "def nonconformity_measure(bag_features, bag_targets, features, target):\n",
    "\n",
    "    # Compute distances to :\n",
    "    closest_same_category = min([np.linalg.norm(features - x, ord=2)\n",
    "                                 for x, y in zip(bag_features, bag_targets) if y==target])\n",
    "    closest_different_category = min([np.linalg.norm(features - x, ord=2)\n",
    "                                      for x, y in zip(bag_features, bag_targets) if y!=target])\n",
    "    \n",
    "    measure = closest_same_category / closest_different_category\n",
    "    return measure\n",
    "\n",
    "def conformal_algorithm_using_new_object(nonconformity_measure, bag_features, bag_targets, features, value):\n",
    "    n = len(bag_features) + 1\n",
    "    \n",
    "    X = list(bag_features) + [features]\n",
    "    y = list(bag_targets) + [value]\n",
    "\n",
    "    alphas = []\n",
    "    for i in range(n):\n",
    "        alphas.append(nonconformity_measure(\n",
    "            X[:i] + X[i+1:], y[:i] + y[i+1:], X[i], y[i]\n",
    "        ))\n",
    "\n",
    "    p = np.mean(np.array(alphas) >= alphas[-1])\n",
    "    return p"
   ]
  },
  {
   "cell_type": "markdown",
   "metadata": {},
   "source": [
    "The possible categories are $\\{0, 1, 2\\}$."
   ]
  },
  {
   "cell_type": "code",
   "execution_count": 18,
   "metadata": {},
   "outputs": [],
   "source": [
    "possible_categories = set(y)"
   ]
  },
  {
   "cell_type": "markdown",
   "metadata": {},
   "source": [
    "We choose and $\\epsilon$ value of 0.05 :"
   ]
  },
  {
   "cell_type": "code",
   "execution_count": 19,
   "metadata": {},
   "outputs": [],
   "source": [
    "epsilon = 0.05"
   ]
  },
  {
   "cell_type": "markdown",
   "metadata": {},
   "source": [
    "Let's test the conformal algorithm :"
   ]
  },
  {
   "cell_type": "code",
   "execution_count": 20,
   "metadata": {},
   "outputs": [],
   "source": [
    "def get_confidence_region(nonconformity_measure, bag_features, bag_targets, features, possible_categories):\n",
    "    confidence_region = []\n",
    "    for c in possible_categories:\n",
    "        score = conformal_algorithm_using_new_object(\n",
    "            nonconformity_measure, bag_features, bag_targets, features, c)\n",
    "        if score > epsilon:\n",
    "            confidence_region.append(c)\n",
    "    return confidence_region"
   ]
  },
  {
   "cell_type": "code",
   "execution_count": 21,
   "metadata": {},
   "outputs": [
    {
     "name": "stderr",
     "output_type": "stream",
     "text": [
      "100%|██████████| 130/130 [00:33<00:00,  3.89it/s]\n"
     ]
    }
   ],
   "source": [
    "hits = []\n",
    "region_sizes = []\n",
    "hits_model = []\n",
    "for i in tqdm(range(20, len(X))):\n",
    "    confidence_region = get_confidence_region(nonconformity_measure, X[:i], y[:i], X[i], possible_categories)\n",
    "    hits.append(y[i] in confidence_region)\n",
    "    region_sizes.append(len(confidence_region))\n",
    "\n",
    "    model = RandomForestClassifier()\n",
    "    model.fit(X[:i], y[:i])\n",
    "    y_predicted = model.predict([X[i]])[0]\n",
    "    hits_model.append(y_predicted in confidence_region)"
   ]
  },
  {
   "cell_type": "code",
   "execution_count": 22,
   "metadata": {},
   "outputs": [
    {
     "data": {
      "text/plain": [
       "0.9384615384615385"
      ]
     },
     "execution_count": 22,
     "metadata": {},
     "output_type": "execute_result"
    }
   ],
   "source": [
    "np.mean(hits)"
   ]
  },
  {
   "cell_type": "markdown",
   "metadata": {},
   "source": [
    "First of all, we can see that the hit frequency is $\\approx$ 1-$\\epsilon$. So this is a good thing, the confidence regions seem to be valid."
   ]
  },
  {
   "cell_type": "code",
   "execution_count": 23,
   "metadata": {},
   "outputs": [
    {
     "data": {
      "text/plain": [
       "0.9692307692307692"
      ]
     },
     "execution_count": 23,
     "metadata": {},
     "output_type": "execute_result"
    }
   ],
   "source": [
    "np.mean(region_sizes)"
   ]
  },
  {
   "cell_type": "markdown",
   "metadata": {},
   "source": [
    "This time, by computing the average region size we get a values almost equal to 1. This is an ideal scenario as we would always want to have one and only one value in the confidence region so that we can predict this value."
   ]
  },
  {
   "cell_type": "code",
   "execution_count": 24,
   "metadata": {},
   "outputs": [
    {
     "data": {
      "text/plain": [
       "0.9230769230769231"
      ]
     },
     "execution_count": 24,
     "metadata": {},
     "output_type": "execute_result"
    }
   ],
   "source": [
    "np.mean(hits_model)"
   ]
  },
  {
   "cell_type": "markdown",
   "metadata": {},
   "source": [
    "By computing the hit frequency of a random forest classifier that trains on previous data and tries to predict the new target at each iteration, we get a slightly higher value. This is probably due to a sub-optimal choice of non-conformity metric. (Sometimes the classifier doesn't predict a value in the confidence region, and this values happens to be true)"
   ]
  },
  {
   "cell_type": "markdown",
   "metadata": {},
   "source": [
    "### Regression - Diabetes Dataset"
   ]
  },
  {
   "cell_type": "code",
   "execution_count": 25,
   "metadata": {},
   "outputs": [],
   "source": [
    "X, y = load_diabetes(return_X_y=True)\n",
    "idx = np.arange(X.shape[0])\n",
    "np.random.shuffle(idx)\n",
    "X = X[idx]\n",
    "y = y[idx]"
   ]
  },
  {
   "cell_type": "markdown",
   "metadata": {},
   "source": [
    "The algorithm is the same, we only need to define a proper non-conformity measure :"
   ]
  },
  {
   "cell_type": "code",
   "execution_count": 26,
   "metadata": {},
   "outputs": [],
   "source": [
    "def nonconformity_measure(bag_features, bag_targets, features, target):\n",
    "    model = GradientBoostingRegressor()\n",
    "    model.fit(bag_features, bag_targets)\n",
    "    y_predicted = model.predict([features])[0]\n",
    "    return np.abs(target - y_predicted)"
   ]
  },
  {
   "cell_type": "code",
   "execution_count": 27,
   "metadata": {},
   "outputs": [
    {
     "data": {
      "image/png": "[encoded data removed]",
      "text/plain": [
       "<Figure size 1296x576 with 1 Axes>"
      ]
     },
     "metadata": {},
     "output_type": "display_data"
    }
   ],
   "source": [
    "plt.figure(figsize=(18, 8))\n",
    "plt.title(\"target distribution in the diabetes dataset\")\n",
    "sns.distplot(y, kde=False)\n",
    "plt.show()"
   ]
  },
  {
   "cell_type": "markdown",
   "metadata": {},
   "source": [
    "The values seem distributed between 0 and 350 so :"
   ]
  },
  {
   "cell_type": "code",
   "execution_count": 28,
   "metadata": {},
   "outputs": [],
   "source": [
    "possible_values = np.linspace(0, 350, 10)"
   ]
  },
  {
   "cell_type": "markdown",
   "metadata": {},
   "source": [
    "We choose and $\\epsilon$ value of 0.05 :"
   ]
  },
  {
   "cell_type": "code",
   "execution_count": 29,
   "metadata": {},
   "outputs": [],
   "source": [
    "epsilon = 0.05"
   ]
  },
  {
   "cell_type": "markdown",
   "metadata": {},
   "source": [
    "Let's test the conformal algorithm :"
   ]
  },
  {
   "cell_type": "code",
   "execution_count": 30,
   "metadata": {},
   "outputs": [],
   "source": [
    "def get_confidence_region(nonconformity_measure, bag_features, bag_targets, features, possible_values):\n",
    "    confidence_region = []\n",
    "    for v in possible_values:\n",
    "        score = conformal_algorithm_using_new_object(\n",
    "            nonconformity_measure, bag_features, bag_targets, features, v)\n",
    "        if score > epsilon:\n",
    "            confidence_region.append(v)\n",
    "    return confidence_region"
   ]
  },
  {
   "cell_type": "code",
   "execution_count": 31,
   "metadata": {
    "scrolled": true
   },
   "outputs": [
    {
     "name": "stderr",
     "output_type": "stream",
     "text": [
      "100%|██████████| 80/80 [44:38<00:00, 33.48s/it]\n"
     ]
    }
   ],
   "source": [
    "hits = []\n",
    "region_sizes = []\n",
    "for i in tqdm(range(20, 100)):\n",
    "    confidence_region = get_confidence_region(nonconformity_measure, X[:i], y[:i], X[i], possible_values)\n",
    "    hits.append((y[i] > min(confidence_region)) & (y[i] < max(confidence_region)))\n",
    "    region_sizes.append(len(confidence_region))"
   ]
  },
  {
   "cell_type": "code",
   "execution_count": 32,
   "metadata": {},
   "outputs": [
    {
     "data": {
      "text/plain": [
       "0.875"
      ]
     },
     "execution_count": 32,
     "metadata": {},
     "output_type": "execute_result"
    }
   ],
   "source": [
    "np.mean(hits)"
   ]
  },
  {
   "cell_type": "markdown",
   "metadata": {},
   "source": [
    "As we can see, the hit frequency is a bit lower than the expected 95%, but this is probably due to the fact that we discretize the space of possible values."
   ]
  },
  {
   "cell_type": "code",
   "execution_count": 33,
   "metadata": {},
   "outputs": [
    {
     "data": {
      "text/plain": [
       "0.605"
      ]
     },
     "execution_count": 33,
     "metadata": {},
     "output_type": "execute_result"
    }
   ],
   "source": [
    "np.mean(region_sizes)/len(possible_values)"
   ]
  },
  {
   "cell_type": "markdown",
   "metadata": {},
   "source": [
    "The ratio average_region_size / maximum_possible_size is around 60%, which is not that bad. Just to have an idea, if we were constructing a 95% confidence interval of random normal values,  the width of the interval would have been 4$\\sigma$, for a 99.7% CI the width would have been 6$\\sigma$. The later CI has almost all of the distribution in it so we could say it is the maximum possible size. The ratio is then $\\frac{4}{6}\\approx$ 66%."
   ]
  }
 ],
 "metadata": {
  "kernelspec": {
   "display_name": "Python 3",
   "language": "python",
   "name": "python3"
  },
  "language_info": {
   "codemirror_mode": {
    "name": "ipython",
    "version": 3
   },
   "file_extension": ".py",
   "mimetype": "text/x-python",
   "name": "python",
   "nbconvert_exporter": "python",
   "pygments_lexer": "ipython3",
   "version": "3.6.3"
  },
  "toc": {
   "nav_menu": {
    "height": "182px",
    "width": "272px"
   },
   "number_sections": true,
   "sideBar": true,
   "skip_h1_title": false,
   "title_cell": "Table of Contents",
   "title_sidebar": "Contents",
   "toc_cell": false,
   "toc_position": {},
   "toc_section_display": true,
   "toc_window_display": false
  },
  "varInspector": {
   "cols": {
    "lenName": 16,
    "lenType": 16,
    "lenVar": 40
   },
   "kernels_config": {
    "python": {
     "delete_cmd_postfix": "",
     "delete_cmd_prefix": "del ",
     "library": "var_list.py",
     "varRefreshCmd": "print(var_dic_list())"
    },
    "r": {
     "delete_cmd_postfix": ") ",
     "delete_cmd_prefix": "rm(",
     "library": "var_list.r",
     "varRefreshCmd": "cat(var_dic_list()) "
    }
   },
   "types_to_exclude": [
    "module",
    "function",
    "builtin_function_or_method",
    "instance",
    "_Feature"
   ],
   "window_display": false
  }
 },
 "nbformat": 4,
 "nbformat_minor": 2
}
