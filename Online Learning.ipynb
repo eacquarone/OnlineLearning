{
 "cells": [
  {
   "cell_type": "code",
   "execution_count": 131,
   "metadata": {},
   "outputs": [
    {
     "name": "stdout",
     "output_type": "stream",
     "text": [
      "Populating the interactive namespace from numpy and matplotlib\n"
     ]
    }
   ],
   "source": [
    "%pylab inline"
   ]
  },
  {
   "cell_type": "code",
   "execution_count": 157,
   "metadata": {},
   "outputs": [],
   "source": [
    "import numpy as np\n",
    "import multiset as ms\n",
    "from sys import maxsize\n",
    "\n",
    "import pandas as pd\n",
    "from sklearn.datasets import load_iris"
   ]
  },
  {
   "cell_type": "code",
   "execution_count": 18,
   "metadata": {},
   "outputs": [],
   "source": [
    "p =ms.Multiset([1,3,4,4,3,5,6]).difference([3])"
   ]
  },
  {
   "cell_type": "markdown",
   "metadata": {},
   "source": [
    "# Exchangeability Model"
   ]
  },
  {
   "cell_type": "markdown",
   "metadata": {},
   "source": [
    "## Conformal Algorithm using old predictions alone"
   ]
  },
  {
   "cell_type": "markdown",
   "metadata": {},
   "source": [
    "This are the observations we want to assess:"
   ]
  },
  {
   "cell_type": "code",
   "execution_count": 53,
   "metadata": {},
   "outputs": [],
   "source": [
    "list_fisher = [17,20,10,17,12,15,19,22,17,\n",
    "               19,14,22,18,17,13,12,18,15,17]"
   ]
  },
  {
   "cell_type": "markdown",
   "metadata": {},
   "source": [
    "We first define the non-conformity measure associated with fisher problem."
   ]
  },
  {
   "cell_type": "code",
   "execution_count": 52,
   "metadata": {},
   "outputs": [],
   "source": [
    "def non_conformity_fisher(bag, example):\n",
    "    n = len(bag)\n",
    "    z_bar_bag = np.mean(bag)\n",
    "    print(z_bar_bag*n)\n",
    "    return(abs(((n*z_bar_bag+example)/(n+1))-example))"
   ]
  },
  {
   "cell_type": "markdown",
   "metadata": {},
   "source": [
    "Then we can define the algorithm as stated in the paper :"
   ]
  },
  {
   "cell_type": "code",
   "execution_count": 38,
   "metadata": {},
   "outputs": [],
   "source": [
    "def conformal_algorithm_from_old_examples(non_conformity_measure,previous_examples_list, example, error=.05):\n",
    "    n = len(previous_examples_list)+1\n",
    "    examples_list = previous_examples_list+[example]\n",
    "    alpha = np.zeros(n)\n",
    "    for i in range(n):\n",
    "        bag = ms.Multiset(examples_list).difference([examples_list[i]])\n",
    "        alpha[i] = non_conformity_measure(bag, examples_list[i])\n",
    "    p_z = sum(alpha > alpha[n-1])/n\n",
    "    return p_z >= error\n",
    "        "
   ]
  },
  {
   "cell_type": "markdown",
   "metadata": {},
   "source": [
    "Predicting for a number of reasonable values for z:"
   ]
  },
  {
   "cell_type": "code",
   "execution_count": 40,
   "metadata": {
    "collapsed": true
   },
   "outputs": [
    {
     "data": {
      "text/plain": [
       "[False,\n",
       " False,\n",
       " False,\n",
       " False,\n",
       " False,\n",
       " False,\n",
       " False,\n",
       " False,\n",
       " False,\n",
       " False,\n",
       " False,\n",
       " True,\n",
       " True,\n",
       " True,\n",
       " True,\n",
       " True,\n",
       " True,\n",
       " True,\n",
       " True,\n",
       " True,\n",
       " True,\n",
       " True,\n",
       " True,\n",
       " True,\n",
       " False,\n",
       " False,\n",
       " False,\n",
       " False,\n",
       " False,\n",
       " False]"
      ]
     },
     "execution_count": 40,
     "metadata": {},
     "output_type": "execute_result"
    }
   ],
   "source": [
    "[conformal_algorithm_from_old_examples(non_conformity_fisher, list_fisher, i) for i in range(30)]"
   ]
  },
  {
   "cell_type": "markdown",
   "metadata": {},
   "source": [
    "# 1.2 Conformal Algorithm using new object"
   ]
  },
  {
   "cell_type": "markdown",
   "metadata": {},
   "source": [
    "Let's implement the nonconformity measure for nearest neighbours, as in the paper if the denominator is 0 and the numerator is not then the result should be infinity (or in this case the maximum integer computable) and if they are both equal to zero then we return 0."
   ]
  },
  {
   "cell_type": "code",
   "execution_count": 127,
   "metadata": {},
   "outputs": [],
   "source": [
    "def non_conformity_nn(bag, example, label):\n",
    "    distance_to_z_nn_in_bag_same_label = min([abs(x-example) for (x,y) in bag if y == label])\n",
    "    distance_to_z_nn_in_bag_diff_label = min([abs(x-example) for (x,y) in bag if y != label])\n",
    "    if (distance_to_z_nn_in_bag_diff_label == 0)&(distance_to_z_nn_in_bag_same_label == 0):\n",
    "        return 0. \n",
    "    if (distance_to_z_nn_in_bag_diff_label == 0):\n",
    "        return maxsize-1\n",
    "    return distance_to_z_nn_in_bag_same_label/distance_to_z_nn_in_bag_diff_label"
   ]
  },
  {
   "cell_type": "markdown",
   "metadata": {},
   "source": [
    "Implementing the supervised version of the conformal algorithm."
   ]
  },
  {
   "cell_type": "code",
   "execution_count": 183,
   "metadata": {},
   "outputs": [],
   "source": [
    "def conformal_algorithm_using_new_object(non_conformity_measure,previous_examples_list, example, label, error=.05):\n",
    "    n = len(previous_examples_list)+1\n",
    "    examples_list = previous_examples_list+[(example, label)]\n",
    "    alpha = np.zeros(n)\n",
    "    for i in range(n):\n",
    "        bag = ms.Multiset(examples_list).difference([examples_list[i]])\n",
    "        alpha[i] = non_conformity_measure(bag, examples_list[i][0], examples_list[i][1])\n",
    "    p_y = sum(alpha > alpha[n-1])/n\n",
    "    return {\"test_result\":p_y >= error,\n",
    "            \"alpha\":alpha,\n",
    "            \"1-p_y\":1-p_y\n",
    "           }"
   ]
  },
  {
   "cell_type": "markdown",
   "metadata": {},
   "source": [
    "Loading Iris Dataset"
   ]
  },
  {
   "cell_type": "code",
   "execution_count": 207,
   "metadata": {},
   "outputs": [],
   "source": [
    "X = pd.DataFrame(load_iris()[\"data\"], columns=load_iris()[\"feature_names\"])\n",
    "y = pd.DataFrame(load_iris()[\"target\"], columns=[\"species\"])\n",
    "X = X[y.species.isin([0,1])]\n",
    "y = y[y.species.isin([0,1])]\n",
    "\n",
    "df = pd.concat([X,y],axis=1).sample(n=25, random_state=320)\n",
    "\n",
    "list_obs = [(example, label) for [example, label] in df[[\"sepal length (cm)\", \"species\"]].values]"
   ]
  },
  {
   "cell_type": "markdown",
   "metadata": {},
   "source": [
    "We plot the Iris dataset with respect to sepal length"
   ]
  },
  {
   "cell_type": "code",
   "execution_count": 208,
   "metadata": {},
   "outputs": [
    {
     "data": {
      "text/plain": [
       "<matplotlib.collections.PathCollection at 0x1a26d10940>"
      ]
     },
     "execution_count": 208,
     "metadata": {},
     "output_type": "execute_result"
    },
    {
     "data": {
      "image/png": "[encoded data removed]",
      "text/plain": [
       "<matplotlib.figure.Figure at 0x1a26e4eb70>"
      ]
     },
     "metadata": {},
     "output_type": "display_data"
    }
   ],
   "source": [
    "plt.scatter(df[\"sepal length (cm)\"], np.zeros(25),c=df.species)"
   ]
  },
  {
   "cell_type": "markdown",
   "metadata": {},
   "source": [
    "Conformal predictions for y = 0 and y = 1:"
   ]
  },
  {
   "cell_type": "code",
   "execution_count": 209,
   "metadata": {},
   "outputs": [
    {
     "data": {
      "text/plain": [
       "{'1-p_y': 0.84,\n",
       " 'alpha': array([1.81818182e-01, 3.12500000e-01, 0.00000000e+00, 0.00000000e+00,\n",
       "        0.00000000e+00, 1.42857143e-01, 9.22337204e+18, 1.11111111e-01,\n",
       "        0.00000000e+00, 9.22337204e+18, 0.00000000e+00, 0.00000000e+00,\n",
       "        0.00000000e+00, 3.33333333e-01, 0.00000000e+00, 0.00000000e+00,\n",
       "        0.00000000e+00, 0.00000000e+00, 0.00000000e+00, 0.00000000e+00,\n",
       "        2.00000000e-01, 0.00000000e+00, 0.00000000e+00, 0.00000000e+00,\n",
       "        2.50000000e-01]),\n",
       " 'test_result': True}"
      ]
     },
     "execution_count": 209,
     "metadata": {},
     "output_type": "execute_result"
    }
   ],
   "source": [
    "conformal_algorithm_using_new_object(non_conformity_nn, list_obs[:-1], list_obs[-1][0], 0.)"
   ]
  },
  {
   "cell_type": "code",
   "execution_count": 210,
   "metadata": {},
   "outputs": [
    {
     "data": {
      "text/plain": [
       "{'1-p_y': 0.92,\n",
       " 'alpha': array([1.81818182e-01, 3.12500000e-01, 0.00000000e+00, 0.00000000e+00,\n",
       "        0.00000000e+00, 3.33333333e-01, 9.22337204e+18, 1.11111111e-01,\n",
       "        0.00000000e+00, 9.22337204e+18, 0.00000000e+00, 0.00000000e+00,\n",
       "        0.00000000e+00, 3.33333333e-01, 0.00000000e+00, 0.00000000e+00,\n",
       "        0.00000000e+00, 0.00000000e+00, 0.00000000e+00, 0.00000000e+00,\n",
       "        1.00000000e+00, 0.00000000e+00, 0.00000000e+00, 0.00000000e+00,\n",
       "        4.00000000e+00]),\n",
       " 'test_result': True}"
      ]
     },
     "execution_count": 210,
     "metadata": {},
     "output_type": "execute_result"
    }
   ],
   "source": [
    "conformal_algorithm_using_new_object(non_conformity_nn, list_obs[:-1], list_obs[-1][0], 1.)"
   ]
  },
  {
   "cell_type": "markdown",
   "metadata": {},
   "source": [
    "Comparing with ground truth :"
   ]
  },
  {
   "cell_type": "code",
   "execution_count": 190,
   "metadata": {},
   "outputs": [
    {
     "data": {
      "text/plain": [
       "(4.8, 0.0)"
      ]
     },
     "execution_count": 190,
     "metadata": {},
     "output_type": "execute_result"
    }
   ],
   "source": [
    "list_obs[-1]"
   ]
  },
  {
   "cell_type": "markdown",
   "metadata": {},
   "source": [
    "- $\\Gamma^{0,92}=\\{0\\}$ With confidence 92% we predict that $y_25=0$ like in the paper.\n",
    "- $\\Gamma^{0,95}=\\{0,1\\}$ No information when the confidence is too high like in the paper.\n",
    "- $\\Gamma^{0,33}=\\emptyset$ False prediction exactly like in the paper."
   ]
  },
  {
   "cell_type": "code",
   "execution_count": null,
   "metadata": {},
   "outputs": [],
   "source": []
  }
 ],
 "metadata": {
  "kernelspec": {
   "display_name": "Python 3",
   "language": "python",
   "name": "python3"
  },
  "toc": {
   "nav_menu": {
    "height": "182px",
    "width": "272px"
   },
   "number_sections": true,
   "sideBar": true,
   "skip_h1_title": false,
   "title_cell": "Table of Contents",
   "title_sidebar": "Contents",
   "toc_cell": false,
   "toc_position": {},
   "toc_section_display": true,
   "toc_window_display": false
  },
  "varInspector": {
   "cols": {
    "lenName": 16,
    "lenType": 16,
    "lenVar": 40
   },
   "kernels_config": {
    "python": {
     "delete_cmd_postfix": "",
     "delete_cmd_prefix": "del ",
     "library": "var_list.py",
     "varRefreshCmd": "print(var_dic_list())"
    },
    "r": {
     "delete_cmd_postfix": ") ",
     "delete_cmd_prefix": "rm(",
     "library": "var_list.r",
     "varRefreshCmd": "cat(var_dic_list()) "
    }
   },
   "types_to_exclude": [
    "module",
    "function",
    "builtin_function_or_method",
    "instance",
    "_Feature"
   ],
   "window_display": false
  }
 },
 "nbformat": 4,
 "nbformat_minor": 2
}
